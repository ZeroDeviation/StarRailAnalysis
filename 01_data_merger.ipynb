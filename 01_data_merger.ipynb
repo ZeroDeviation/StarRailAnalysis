{
 "cells": [
  {
   "cell_type": "code",
   "execution_count": 1,
   "id": "204e297f-c06d-4df9-91e0-a13177fb0bc1",
   "metadata": {},
   "outputs": [],
   "source": [
    "import numpy as np\n",
    "import pandas as pd\n",
    "import os\n",
    "from utils.utils import *"
   ]
  },
  {
   "cell_type": "code",
   "execution_count": 2,
   "id": "8942694a-ed1e-41a0-a557-d4715e5870d6",
   "metadata": {},
   "outputs": [],
   "source": [
    "char_records = pd.concat([read_and_add_csv(f\"{url}\\\\{a}\", '_char.csv') for a in os.listdir(url) if 'char' in a])\n",
    "\n",
    "# select useful columns\n",
    "char_records = char_records[['uid', 'version', 'name', 'weapon', 'cons']]\n",
    "char_records = char_records.rename(columns={'name': 'team_leader'})"
   ]
  },
  {
   "cell_type": "code",
   "execution_count": 3,
   "id": "091bcfae-d515-4683-a56a-858b1ea30623",
   "metadata": {},
   "outputs": [],
   "source": [
    "char_records['version'] = char_records['version'].str.replace('_pf','')"
   ]
  },
  {
   "cell_type": "markdown",
   "id": "18ad6b0f-28aa-4714-97a6-b97420e7bdfc",
   "metadata": {},
   "source": [
    "## Apocalyptic Shadow"
   ]
  },
  {
   "cell_type": "code",
   "execution_count": 4,
   "id": "45a26b07-44dd-4d36-9a0f-bca1d057eacd",
   "metadata": {},
   "outputs": [],
   "source": [
    "as_records = pd.concat([read_and_add_csv(f\"{url}\\\\{a}\", '_as.csv') for a in os.listdir(url) if 'as' in a and 'char' not in a])\n",
    "as_records = as_records.dropna(subset=['ch1', 'ch2', 'ch3', 'ch4']).query('floor==4 & star_num > 0')\n",
    "\n",
    "melted = as_records.melt(id_vars=['uid', 'version'], value_vars=['ch1', 'ch2', 'ch3', 'ch4'], value_name='name').drop(columns='variable')\n",
    "counter = melted.groupby(['version', 'name']).size().reset_index(name='count')\n",
    "uid_count = melted.groupby(['version'])['uid'].nunique().reset_index(name='records')\n",
    "\n",
    "counter = counter.merge(uid_count, on='version')\n",
    "counter['usage'] = counter['count'] / counter['records']"
   ]
  },
  {
   "cell_type": "code",
   "execution_count": 5,
   "id": "4dcce84d-9098-4129-aea8-85818243556e",
   "metadata": {},
   "outputs": [],
   "source": [
    "as_records = create_team_info(as_records, drop_ch=True)\n",
    "data = as_records.merge(char_records, on = ['version', 'team_leader', 'uid'], how='left')\n",
    "data = data.drop(columns=[f'cons{i}' for i in range(1,5)])\n",
    "data = data.query('has_sustain')"
   ]
  },
  {
   "cell_type": "code",
   "execution_count": 6,
   "id": "cf186778-8bf0-497e-84ba-497368e71299",
   "metadata": {},
   "outputs": [],
   "source": [
    "data.to_csv('data/as.csv', index=False)"
   ]
  },
  {
   "cell_type": "markdown",
   "id": "15171b81-8ff9-4aff-9a92-530ff8597e8c",
   "metadata": {},
   "source": [
    "## Memory of Chaos"
   ]
  },
  {
   "cell_type": "code",
   "execution_count": 7,
   "id": "c4b2a3a3-bc43-44cf-84ec-3dabe1ac67aa",
   "metadata": {},
   "outputs": [
    {
     "name": "stderr",
     "output_type": "stream",
     "text": [
      "<>:3: SyntaxWarning: invalid escape sequence '\\d'\n",
      "<>:3: SyntaxWarning: invalid escape sequence '\\d'\n",
      "C:\\Users\\User\\AppData\\Local\\Temp\\ipykernel_13280\\3353881217.py:3: SyntaxWarning: invalid escape sequence '\\d'\n",
      "  df['floor'] = df['floor'].astype('str').str.extract('(\\d+)').astype('int')\n"
     ]
    }
   ],
   "source": [
    "df = pd.concat([read_and_add_csv(f\"{url}\\\\{a}\" , '.csv') for a in os.listdir(url) if '_' not in a]).query('version > \"1.29\"')\n",
    "df = df.query('round_num > 0 & star_num >= 2 & ch4.notnull()')\n",
    "df['floor'] = df['floor'].astype('str').str.extract('(\\d+)').astype('int')"
   ]
  },
  {
   "cell_type": "code",
   "execution_count": 8,
   "id": "e8fbfdb9-f9cf-410f-8a56-289e88a28b9d",
   "metadata": {},
   "outputs": [],
   "source": [
    "floor12 = df.query('floor==12')\n",
    "floor10 = df.query('floor==10').query('version < \"1.6\"').query('star_num > 0')\n",
    "data = pd.concat([floor10,floor12])\n",
    "\n",
    "data = create_team_info(data, drop_ch=True)\n",
    "data = data.merge(char_records, on = ['version', 'team_leader', 'uid'], how='left')\n",
    "data = data.dropna(subset='team_leader')\n",
    "data = data.drop(columns=[f'cons{i}' for i in range(1,5)])\n",
    "data = data.query('has_sustain')"
   ]
  },
  {
   "cell_type": "code",
   "execution_count": 9,
   "id": "0777ac75-3edb-4a6f-bddd-d1a6c8a8f807",
   "metadata": {},
   "outputs": [],
   "source": [
    "data.to_csv('data/moc.csv', index=False)"
   ]
  },
  {
   "cell_type": "markdown",
   "id": "3faaf542-93a8-49fb-b93f-2378d6ecc90c",
   "metadata": {},
   "source": [
    "## Pure Fiction"
   ]
  },
  {
   "cell_type": "code",
   "execution_count": 14,
   "id": "9a775714-8e47-42bd-88e8-7adba302fbdb",
   "metadata": {},
   "outputs": [],
   "source": [
    "pf_records = pd.concat([read_and_add_csv(f\"{url}\\\\{a}\", '_pf.csv') for a in os.listdir(url) if 'pf' in a and 'char' not in a])\n",
    "pf_records = pf_records.dropna(subset=['ch1', 'ch2', 'ch3', 'ch4']).query('floor==4 & star_num > 0')\n",
    "\n",
    "melted = pf_records.melt(id_vars=['uid', 'version'], value_vars=['ch1', 'ch2', 'ch3', 'ch4'], value_name='name').drop(columns='variable')\n",
    "counter = melted.groupby(['version', 'name']).size().reset_index(name='count')\n",
    "uid_count = melted.groupby(['version'])['uid'].nunique().reset_index(name='records')\n",
    "\n",
    "counter = counter.merge(uid_count, on='version')\n",
    "counter['usage'] = counter['count'] / counter['records']"
   ]
  },
  {
   "cell_type": "code",
   "execution_count": 15,
   "id": "53dfb6be-5082-46b0-9b05-e087462993c0",
   "metadata": {},
   "outputs": [],
   "source": [
    "pf_records = create_team_info(pf_records, drop_ch=True)\n",
    "data = pf_records.merge(char_records, on = ['version', 'team_leader', 'uid'], how='left')\n"
   ]
  },
  {
   "cell_type": "code",
   "execution_count": 12,
   "id": "7a19a325-0c38-408d-866e-e953830269fb",
   "metadata": {},
   "outputs": [],
   "source": [
    "data = data.drop(columns=[f'cons{i}' for i in range(1,5)])\n",
    "data = data.query('has_sustain')"
   ]
  },
  {
   "cell_type": "code",
   "execution_count": 13,
   "id": "6084332d-2913-45c6-b26c-7729719108b9",
   "metadata": {},
   "outputs": [],
   "source": [
    "data.to_csv('data/pf.csv', index=False)"
   ]
  }
 ],
 "metadata": {
  "kernelspec": {
   "display_name": "Python 3 (ipykernel)",
   "language": "python",
   "name": "python3"
  },
  "language_info": {
   "codemirror_mode": {
    "name": "ipython",
    "version": 3
   },
   "file_extension": ".py",
   "mimetype": "text/x-python",
   "name": "python",
   "nbconvert_exporter": "python",
   "pygments_lexer": "ipython3",
   "version": "3.12.3"
  }
 },
 "nbformat": 4,
 "nbformat_minor": 5
}
